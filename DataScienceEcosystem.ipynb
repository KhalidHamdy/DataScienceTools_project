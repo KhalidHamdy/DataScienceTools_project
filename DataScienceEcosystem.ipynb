{
 "cells": [
  {
   "cell_type": "markdown",
   "id": "8ab29110",
   "metadata": {},
   "source": [
    "# Data Science Tools and Ecosystem"
   ]
  },
  {
   "cell_type": "markdown",
   "id": "e7363e79",
   "metadata": {},
   "source": [
    "## In this notebook, Data Science Tools and Ecosystem are summarized"
   ]
  },
  {
   "cell_type": "markdown",
   "id": "ee515238",
   "metadata": {},
   "source": [
    "## Author\n",
    "\n",
    "khalid abdulhamid hamdy\n",
    "\n",
    "#### Objectives:\n",
    "\n",
    "- data science languages \n",
    "- data science libraries \n",
    "- data science tools \n",
    "- data science arithmetics operations \n",
    "\n",
    "\n"
   ]
  },
  {
   "cell_type": "markdown",
   "id": "d1555ed2",
   "metadata": {},
   "source": [
    "#### Some of the popular languages that Data Scientists use are:\n",
    "\n",
    "1. R\n",
    "2. Python\n",
    "3. Julia\n"
   ]
  },
  {
   "cell_type": "markdown",
   "id": "03755157",
   "metadata": {},
   "source": [
    "#### Some of the popular Libraries that Data Scientists use are:\n",
    "\n",
    "1. Pandas\n",
    "2. Numpy\n",
    "3. GGplot\n"
   ]
  },
  {
   "cell_type": "markdown",
   "id": "ee1d13a7",
   "metadata": {},
   "source": [
    "| Data Science Tools |\n",
    "| -------------|\n",
    "| Tableau |\n",
    "| Power BI |\n",
    "| Programming Languages |"
   ]
  },
  {
   "cell_type": "markdown",
   "id": "ef6739d5",
   "metadata": {},
   "source": [
    "### Below are a few examples of evaluating arithmetic expressions in Python\n",
    "\n",
    "1. Devision /\n",
    "2. Multiplication * \n",
    "3. Addition +"
   ]
  },
  {
   "cell_type": "code",
   "execution_count": 5,
   "id": "4418fb06",
   "metadata": {},
   "outputs": [
    {
     "data": {
      "text/plain": [
       "17"
      ]
     },
     "execution_count": 5,
     "metadata": {},
     "output_type": "execute_result"
    }
   ],
   "source": [
    "#This a simple arithmetic expression to mutiply then add integers\n",
    "(3*4)+5"
   ]
  },
  {
   "cell_type": "code",
   "execution_count": 8,
   "id": "d07c7b7b",
   "metadata": {},
   "outputs": [
    {
     "data": {
      "text/plain": [
       "3.3333333333333335"
      ]
     },
     "execution_count": 8,
     "metadata": {},
     "output_type": "execute_result"
    }
   ],
   "source": [
    "# This will convert 200 minutes to hours by diving by 60\n",
    "200/60"
   ]
  }
 ],
 "metadata": {
  "kernelspec": {
   "display_name": "Python 3 (ipykernel)",
   "language": "python",
   "name": "python3"
  },
  "language_info": {
   "codemirror_mode": {
    "name": "ipython",
    "version": 3
   },
   "file_extension": ".py",
   "mimetype": "text/x-python",
   "name": "python",
   "nbconvert_exporter": "python",
   "pygments_lexer": "ipython3",
   "version": "3.9.12"
  }
 },
 "nbformat": 4,
 "nbformat_minor": 5
}
